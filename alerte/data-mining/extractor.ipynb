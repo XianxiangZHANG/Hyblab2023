{
 "cells": [
  {
   "attachments": {},
   "cell_type": "markdown",
   "metadata": {},
   "source": [
    "# Extractor\n",
    "\n",
    "In this notebook, we make a clean dataset of all information we can extract on farm factories"
   ]
  },
  {
   "attachments": {},
   "cell_type": "markdown",
   "metadata": {},
   "source": [
    "We cross two tables\n",
    "- One that gives us the (limited) table of all farms. https://www.georisques.gouv.fr/risques/installations/donnees?page=1&nomenclature=2101,2102,2111\n",
    "- The other that gives every INSEE code for a given zip code.\n",
    "\n",
    "This allows us to extend the first table by making requests on the API for each facility"
   ]
  },
  {
   "cell_type": "code",
   "execution_count": 1,
   "metadata": {},
   "outputs": [],
   "source": [
    "import requests\n",
    "import json\n",
    "import pandas as pd\n",
    "import numpy as np"
   ]
  },
  {
   "attachments": {},
   "cell_type": "markdown",
   "metadata": {},
   "source": [
    "## Load INSEE code <-> zip code"
   ]
  },
  {
   "cell_type": "code",
   "execution_count": 2,
   "metadata": {},
   "outputs": [],
   "source": [
    "code_insee = pd.read_csv(\"code_insee.csv\", usecols=[\"Code_commune_INSEE\", \"Code_postal\"])\n",
    "code_insee = code_insee.drop_duplicates(subset=\"Code_commune_INSEE\")\n",
    "code_insee = code_insee.dropna()"
   ]
  },
  {
   "cell_type": "code",
   "execution_count": 3,
   "metadata": {},
   "outputs": [
    {
     "data": {
      "text/html": [
       "<div>\n",
       "<style scoped>\n",
       "    .dataframe tbody tr th:only-of-type {\n",
       "        vertical-align: middle;\n",
       "    }\n",
       "\n",
       "    .dataframe tbody tr th {\n",
       "        vertical-align: top;\n",
       "    }\n",
       "\n",
       "    .dataframe thead th {\n",
       "        text-align: right;\n",
       "    }\n",
       "</style>\n",
       "<table border=\"1\" class=\"dataframe\">\n",
       "  <thead>\n",
       "    <tr style=\"text-align: right;\">\n",
       "      <th></th>\n",
       "      <th>Code_commune_INSEE</th>\n",
       "      <th>Code_postal</th>\n",
       "    </tr>\n",
       "  </thead>\n",
       "  <tbody>\n",
       "    <tr>\n",
       "      <th>0</th>\n",
       "      <td>1004</td>\n",
       "      <td>1500</td>\n",
       "    </tr>\n",
       "    <tr>\n",
       "      <th>1</th>\n",
       "      <td>1025</td>\n",
       "      <td>1380</td>\n",
       "    </tr>\n",
       "    <tr>\n",
       "      <th>2</th>\n",
       "      <td>1029</td>\n",
       "      <td>1270</td>\n",
       "    </tr>\n",
       "    <tr>\n",
       "      <th>3</th>\n",
       "      <td>1033</td>\n",
       "      <td>1200</td>\n",
       "    </tr>\n",
       "    <tr>\n",
       "      <th>6</th>\n",
       "      <td>1043</td>\n",
       "      <td>1700</td>\n",
       "    </tr>\n",
       "    <tr>\n",
       "      <th>...</th>\n",
       "      <td>...</td>\n",
       "      <td>...</td>\n",
       "    </tr>\n",
       "    <tr>\n",
       "      <th>39147</th>\n",
       "      <td>98823</td>\n",
       "      <td>98823</td>\n",
       "    </tr>\n",
       "    <tr>\n",
       "      <th>39168</th>\n",
       "      <td>98733</td>\n",
       "      <td>98711</td>\n",
       "    </tr>\n",
       "    <tr>\n",
       "      <th>39179</th>\n",
       "      <td>98751</td>\n",
       "      <td>98783</td>\n",
       "    </tr>\n",
       "    <tr>\n",
       "      <th>39189</th>\n",
       "      <td>98819</td>\n",
       "      <td>98821</td>\n",
       "    </tr>\n",
       "    <tr>\n",
       "      <th>39191</th>\n",
       "      <td>98827</td>\n",
       "      <td>98827</td>\n",
       "    </tr>\n",
       "  </tbody>\n",
       "</table>\n",
       "<p>35087 rows × 2 columns</p>\n",
       "</div>"
      ],
      "text/plain": [
       "      Code_commune_INSEE  Code_postal\n",
       "0                   1004         1500\n",
       "1                   1025         1380\n",
       "2                   1029         1270\n",
       "3                   1033         1200\n",
       "6                   1043         1700\n",
       "...                  ...          ...\n",
       "39147              98823        98823\n",
       "39168              98733        98711\n",
       "39179              98751        98783\n",
       "39189              98819        98821\n",
       "39191              98827        98827\n",
       "\n",
       "[35087 rows x 2 columns]"
      ]
     },
     "execution_count": 3,
     "metadata": {},
     "output_type": "execute_result"
    }
   ],
   "source": [
    "code_insee"
   ]
  },
  {
   "attachments": {},
   "cell_type": "markdown",
   "metadata": {},
   "source": [
    "## Load farms zip codes"
   ]
  },
  {
   "attachments": {},
   "cell_type": "markdown",
   "metadata": {},
   "source": [
    "Get every zip codes where there are farms"
   ]
  },
  {
   "cell_type": "code",
   "execution_count": 4,
   "metadata": {},
   "outputs": [],
   "source": [
    "farms_zip_codes = pd.read_csv(\"farms_2023-02-01.csv\", usecols=[\"Code postal\"])\n",
    "farms_zip_codes = farms_zip_codes.drop_duplicates()\n",
    "farms_zip_codes = farms_zip_codes.dropna()"
   ]
  },
  {
   "cell_type": "code",
   "execution_count": 5,
   "metadata": {},
   "outputs": [],
   "source": [
    "farms_zip_codes = farms_zip_codes.drop_duplicates().dropna()"
   ]
  },
  {
   "cell_type": "code",
   "execution_count": 6,
   "metadata": {},
   "outputs": [
    {
     "data": {
      "text/html": [
       "<div>\n",
       "<style scoped>\n",
       "    .dataframe tbody tr th:only-of-type {\n",
       "        vertical-align: middle;\n",
       "    }\n",
       "\n",
       "    .dataframe tbody tr th {\n",
       "        vertical-align: top;\n",
       "    }\n",
       "\n",
       "    .dataframe thead th {\n",
       "        text-align: right;\n",
       "    }\n",
       "</style>\n",
       "<table border=\"1\" class=\"dataframe\">\n",
       "  <thead>\n",
       "    <tr style=\"text-align: right;\">\n",
       "      <th></th>\n",
       "      <th>Code postal</th>\n",
       "    </tr>\n",
       "  </thead>\n",
       "  <tbody>\n",
       "    <tr>\n",
       "      <th>0</th>\n",
       "      <td>50410.0</td>\n",
       "    </tr>\n",
       "    <tr>\n",
       "      <th>1</th>\n",
       "      <td>50850.0</td>\n",
       "    </tr>\n",
       "    <tr>\n",
       "      <th>2</th>\n",
       "      <td>62810.0</td>\n",
       "    </tr>\n",
       "    <tr>\n",
       "      <th>3</th>\n",
       "      <td>50610.0</td>\n",
       "    </tr>\n",
       "    <tr>\n",
       "      <th>4</th>\n",
       "      <td>50520.0</td>\n",
       "    </tr>\n",
       "    <tr>\n",
       "      <th>...</th>\n",
       "      <td>...</td>\n",
       "    </tr>\n",
       "    <tr>\n",
       "      <th>11552</th>\n",
       "      <td>63880.0</td>\n",
       "    </tr>\n",
       "    <tr>\n",
       "      <th>11554</th>\n",
       "      <td>73530.0</td>\n",
       "    </tr>\n",
       "    <tr>\n",
       "      <th>11569</th>\n",
       "      <td>42580.0</td>\n",
       "    </tr>\n",
       "    <tr>\n",
       "      <th>11594</th>\n",
       "      <td>2510.0</td>\n",
       "    </tr>\n",
       "    <tr>\n",
       "      <th>11598</th>\n",
       "      <td>87370.0</td>\n",
       "    </tr>\n",
       "  </tbody>\n",
       "</table>\n",
       "<p>2081 rows × 1 columns</p>\n",
       "</div>"
      ],
      "text/plain": [
       "       Code postal\n",
       "0          50410.0\n",
       "1          50850.0\n",
       "2          62810.0\n",
       "3          50610.0\n",
       "4          50520.0\n",
       "...            ...\n",
       "11552      63880.0\n",
       "11554      73530.0\n",
       "11569      42580.0\n",
       "11594       2510.0\n",
       "11598      87370.0\n",
       "\n",
       "[2081 rows x 1 columns]"
      ]
     },
     "execution_count": 6,
     "metadata": {},
     "output_type": "execute_result"
    }
   ],
   "source": [
    "farms_zip_codes"
   ]
  },
  {
   "attachments": {},
   "cell_type": "markdown",
   "metadata": {},
   "source": [
    "## Get all zip codes where there are farms"
   ]
  },
  {
   "cell_type": "code",
   "execution_count": 7,
   "metadata": {},
   "outputs": [],
   "source": [
    "farms_insee_codes = farms_zip_codes.merge(\n",
    "    code_insee, left_on=\"Code postal\", right_on=\"Code_postal\")\n",
    "farms_insee_codes = farms_insee_codes.drop(\"Code postal\", axis=1)"
   ]
  },
  {
   "cell_type": "code",
   "execution_count": 8,
   "metadata": {},
   "outputs": [
    {
     "data": {
      "text/html": [
       "<div>\n",
       "<style scoped>\n",
       "    .dataframe tbody tr th:only-of-type {\n",
       "        vertical-align: middle;\n",
       "    }\n",
       "\n",
       "    .dataframe tbody tr th {\n",
       "        vertical-align: top;\n",
       "    }\n",
       "\n",
       "    .dataframe thead th {\n",
       "        text-align: right;\n",
       "    }\n",
       "</style>\n",
       "<table border=\"1\" class=\"dataframe\">\n",
       "  <thead>\n",
       "    <tr style=\"text-align: right;\">\n",
       "      <th></th>\n",
       "      <th>Code_commune_INSEE</th>\n",
       "      <th>Code_postal</th>\n",
       "    </tr>\n",
       "  </thead>\n",
       "  <tbody>\n",
       "    <tr>\n",
       "      <th>0</th>\n",
       "      <td>50357</td>\n",
       "      <td>50410</td>\n",
       "    </tr>\n",
       "    <tr>\n",
       "      <th>1</th>\n",
       "      <td>50393</td>\n",
       "      <td>50410</td>\n",
       "    </tr>\n",
       "    <tr>\n",
       "      <th>2</th>\n",
       "      <td>50637</td>\n",
       "      <td>50410</td>\n",
       "    </tr>\n",
       "    <tr>\n",
       "      <th>3</th>\n",
       "      <td>50295</td>\n",
       "      <td>50410</td>\n",
       "    </tr>\n",
       "    <tr>\n",
       "      <th>4</th>\n",
       "      <td>50338</td>\n",
       "      <td>50410</td>\n",
       "    </tr>\n",
       "    <tr>\n",
       "      <th>...</th>\n",
       "      <td>...</td>\n",
       "      <td>...</td>\n",
       "    </tr>\n",
       "    <tr>\n",
       "      <th>18132</th>\n",
       "      <td>2386</td>\n",
       "      <td>2510</td>\n",
       "    </tr>\n",
       "    <tr>\n",
       "      <th>18133</th>\n",
       "      <td>87076</td>\n",
       "      <td>87370</td>\n",
       "    </tr>\n",
       "    <tr>\n",
       "      <th>18134</th>\n",
       "      <td>87083</td>\n",
       "      <td>87370</td>\n",
       "    </tr>\n",
       "    <tr>\n",
       "      <th>18135</th>\n",
       "      <td>87013</td>\n",
       "      <td>87370</td>\n",
       "    </tr>\n",
       "    <tr>\n",
       "      <th>18136</th>\n",
       "      <td>87181</td>\n",
       "      <td>87370</td>\n",
       "    </tr>\n",
       "  </tbody>\n",
       "</table>\n",
       "<p>18137 rows × 2 columns</p>\n",
       "</div>"
      ],
      "text/plain": [
       "      Code_commune_INSEE  Code_postal\n",
       "0                  50357        50410\n",
       "1                  50393        50410\n",
       "2                  50637        50410\n",
       "3                  50295        50410\n",
       "4                  50338        50410\n",
       "...                  ...          ...\n",
       "18132               2386         2510\n",
       "18133              87076        87370\n",
       "18134              87083        87370\n",
       "18135              87013        87370\n",
       "18136              87181        87370\n",
       "\n",
       "[18137 rows x 2 columns]"
      ]
     },
     "execution_count": 8,
     "metadata": {},
     "output_type": "execute_result"
    }
   ],
   "source": [
    "farms_insee_codes"
   ]
  },
  {
   "attachments": {},
   "cell_type": "markdown",
   "metadata": {},
   "source": [
    "## Pull every facilities from api calls"
   ]
  },
  {
   "attachments": {},
   "cell_type": "markdown",
   "metadata": {},
   "source": [
    "Hypothesis: \"Raison Sociale\" is unique for each facility in France"
   ]
  },
  {
   "cell_type": "code",
   "execution_count": 9,
   "metadata": {},
   "outputs": [],
   "source": [
    "def get_facilities_at(code_insee: int) -> list:\n",
    "    request = \"https://www.georisques.gouv.fr/api/v1/installations_classees?\\\n",
    "        page=1&page_size=100&rayon=10000&code_insee={}\".format(code_insee)\n",
    "\n",
    "    for attempt in range(10):\n",
    "        try:\n",
    "            response = requests.get(request).text\n",
    "        except requests.exceptions.ConnectTimeout:\n",
    "            print(\"ConnectTimeout: {} at attempt {}\".format(request, attempt))\n",
    "        else:\n",
    "            break\n",
    "    else:\n",
    "        print(\"Warning: all attempt failed with request to {}\".format(request))\n",
    "        return []\n",
    "\n",
    "    response_json = json.loads(response)\n",
    "\n",
    "    return response_json[\"data\"]"
   ]
  },
  {
   "cell_type": "code",
   "execution_count": 10,
   "metadata": {},
   "outputs": [],
   "source": [
    "def pull_facilities(code_insee_list: list, unique_facilities: dict = {}) -> dict[str, object]:\n",
    "    \"\"\"\n",
    "    Make an API call for each insee code.\n",
    "\n",
    "    Returns the modified dictionary of unique facilities around INSEE code.\n",
    "    the key for each facility is the \"raison sociale\"\n",
    "    \"\"\"\n",
    "\n",
    "    for i in range(len(code_insee_list)):\n",
    "        code_insee = code_insee_list[i]\n",
    "\n",
    "        facilities_around_insee_loc = get_facilities_at(code_insee)\n",
    "\n",
    "        for facility in facilities_around_insee_loc:\n",
    "            raison_sociale: str = facility[\"raisonSociale\"]\n",
    "\n",
    "            if len(raison_sociale) == 0:\n",
    "                print(\"Warning: empty name for raisonSociale\")\n",
    "                continue\n",
    "\n",
    "            facility.pop(\"raisonSociale\")\n",
    "            unique_facilities[raison_sociale] = facility\n",
    "        \n",
    "        print(\"\\rpull_facility() progress: {}/{}\".format(i + 1, len(code_insee_list)), end='\\t\\t')\n",
    "    print()\n",
    "    \n",
    "    return unique_facilities"
   ]
  },
  {
   "attachments": {},
   "cell_type": "markdown",
   "metadata": {},
   "source": [
    "### Parallelize to accelerate pulling the data"
   ]
  },
  {
   "attachments": {},
   "cell_type": "markdown",
   "metadata": {},
   "source": [
    "We divide the list of INSEE codes in N slices.\n",
    "\n",
    "We then create N threads running in parallel and making requests to the API.\n",
    "\n",
    "The result is written in a shared dictionary of facilities\n",
    "\n",
    "\n",
    "Too much threads may result in ConnectTimeout exceptions. The API blocks the request if it receives too many requests."
   ]
  },
  {
   "cell_type": "code",
   "execution_count": 11,
   "metadata": {},
   "outputs": [],
   "source": [
    "import threading\n",
    "\n",
    "def run_threads(facilities: dict, num_threads:int = 16):\n",
    "    threads = list()\n",
    "\n",
    "    for code_insee_slice in np.array_split(farms_insee_codes.Code_commune_INSEE, num_threads):\n",
    "        x = threading.Thread(target=pull_facilities, args=(list(code_insee_slice), facilities,))\n",
    "        threads.append(x)\n",
    "        x.start()\n",
    "\n",
    "    for index, thread in enumerate(threads):\n",
    "        thread.join()\n",
    "        print(\"End of a thread {}\".format(index))"
   ]
  },
  {
   "cell_type": "code",
   "execution_count": 12,
   "metadata": {},
   "outputs": [],
   "source": [
    "# the final list of facilites\n",
    "# each thread are modifying it. But since it is a dictionnary there are no interferences\n",
    "facilities = {}\n",
    "\n",
    "# uncomment this to make threaded API calls and pull the facilities data\n",
    "#run_threads(facilities)\n",
    "\n",
    "# or uncomment this to load a cache file\n",
    "with open(\"facilities.json\", \"r\") as f:\n",
    "    facilities = json.load(f)"
   ]
  },
  {
   "attachments": {},
   "cell_type": "markdown",
   "metadata": {},
   "source": [
    "## Filter"
   ]
  },
  {
   "attachments": {},
   "cell_type": "markdown",
   "metadata": {},
   "source": [
    "### Remove facilities that are not farms"
   ]
  },
  {
   "cell_type": "code",
   "execution_count": 13,
   "metadata": {},
   "outputs": [],
   "source": [
    "def is_farm(facility: object) -> bool:\n",
    "    return facility[\"bovins\"] or facility[\"porcs\"] or facility[\"volailles\"]\n",
    "\n",
    "farms = {k: v for k, v in facilities.items() if is_farm(v)}"
   ]
  },
  {
   "attachments": {},
   "cell_type": "markdown",
   "metadata": {},
   "source": [
    "### Make Rubric table"
   ]
  },
  {
   "cell_type": "code",
   "execution_count": 14,
   "metadata": {},
   "outputs": [],
   "source": [
    "rubrics = dict()\n",
    "\n",
    "# construct a dictionary of rubrics like this: {rubric_id: rubric_name, ...}\n",
    "for farm_name, farm in farms.items():\n",
    "    farm_rubrics = farm[\"rubriques\"]\n",
    "    for rubric in farm_rubrics:\n",
    "        rubrics[rubric[\"numeroRubrique\"]] = rubric[\"nature\"]"
   ]
  },
  {
   "attachments": {},
   "cell_type": "markdown",
   "metadata": {},
   "source": [
    "### Make stock table"
   ]
  },
  {
   "cell_type": "code",
   "execution_count": 15,
   "metadata": {},
   "outputs": [],
   "source": [
    "stocks = list()\n",
    "\n",
    "# construct a list of stocks\n",
    "for farm_name, farm in farms.items():\n",
    "    farm_rubrics = farm[\"rubriques\"]\n",
    "    for rubric in farm_rubrics:\n",
    "        stock = {\n",
    "            \"raison_sociale\": farm_name,\n",
    "            \"rubric_id\": rubric[\"numeroRubrique\"],\n",
    "            \"quantite\": rubric[\"quantiteTotale\"] if \"quantiteTotale\" in rubric else \"\",\n",
    "            \"unite\": rubric[\"unite\"] if \"unite\" in rubric else \"\",\n",
    "            }\n",
    "\n",
    "        stocks.append(stock)"
   ]
  },
  {
   "attachments": {},
   "cell_type": "markdown",
   "metadata": {},
   "source": [
    "### Remove unused attributes for our project"
   ]
  },
  {
   "cell_type": "code",
   "execution_count": 16,
   "metadata": {},
   "outputs": [],
   "source": [
    "def formal_notice(farm: object) -> bool:\n",
    "    \"\"\"\n",
    "    return True if the farm has at least one document mentionning \"mise en demeure\"\n",
    "    \"\"\"\n",
    "\n",
    "    for document in farm[\"documentsHorsInspection\"]:\n",
    "        if \"mise en demeure\" in document[\"typeFichier\"].lower():\n",
    "            return True\n",
    "    \n",
    "    return False\n",
    "\n",
    "def alter_farm(farm: object) -> object:\n",
    "    farm.pop(\"coordonneeXAIOT\", None)\n",
    "    farm.pop(\"coordonneeYAIOT\", None)\n",
    "    farm.pop(\"codeAIOT\", None)\n",
    "    farm.pop(\"systemeCoordonneesAIOT\", None)\n",
    "    farm.pop(\"serviceAIOT\", None)\n",
    "\n",
    "    farm[\"mise_en_demeure\"] = False\n",
    "    if formal_notice(farm):\n",
    "        farm[\"mise_en_demeure\"] = True\n",
    "    \n",
    "    farm.pop(\"documentsHorsInspection\", None)\n",
    "    farm.pop(\"inspections\", None)\n",
    "    farm.pop(\"rubriques\", None)\n",
    "    \n",
    "    return farm\n",
    "\n",
    "farms = {k: alter_farm(v) for k, v in farms.items()}"
   ]
  },
  {
   "attachments": {},
   "cell_type": "markdown",
   "metadata": {},
   "source": [
    "## Export data"
   ]
  },
  {
   "attachments": {},
   "cell_type": "markdown",
   "metadata": {},
   "source": [
    "### Make dataframes"
   ]
  },
  {
   "attachments": {},
   "cell_type": "markdown",
   "metadata": {},
   "source": [
    "This allows easy csv creation"
   ]
  },
  {
   "attachments": {},
   "cell_type": "markdown",
   "metadata": {},
   "source": [
    "#### Farms"
   ]
  },
  {
   "cell_type": "code",
   "execution_count": 17,
   "metadata": {},
   "outputs": [
    {
     "data": {
      "text/html": [
       "<div>\n",
       "<style scoped>\n",
       "    .dataframe tbody tr th:only-of-type {\n",
       "        vertical-align: middle;\n",
       "    }\n",
       "\n",
       "    .dataframe tbody tr th {\n",
       "        vertical-align: top;\n",
       "    }\n",
       "\n",
       "    .dataframe thead th {\n",
       "        text-align: right;\n",
       "    }\n",
       "</style>\n",
       "<table border=\"1\" class=\"dataframe\">\n",
       "  <thead>\n",
       "    <tr style=\"text-align: right;\">\n",
       "      <th></th>\n",
       "      <th>adresse1</th>\n",
       "      <th>codePostal</th>\n",
       "      <th>codeInsee</th>\n",
       "      <th>commune</th>\n",
       "      <th>longitude</th>\n",
       "      <th>latitude</th>\n",
       "      <th>bovins</th>\n",
       "      <th>porcs</th>\n",
       "      <th>volailles</th>\n",
       "      <th>carriere</th>\n",
       "      <th>...</th>\n",
       "      <th>statutSeveso</th>\n",
       "      <th>ied</th>\n",
       "      <th>etatActivite</th>\n",
       "      <th>regimeVigueur</th>\n",
       "      <th>siret</th>\n",
       "      <th>mise_en_demeure</th>\n",
       "      <th>name</th>\n",
       "      <th>codeNaf</th>\n",
       "      <th>adresse2</th>\n",
       "      <th>adresse3</th>\n",
       "    </tr>\n",
       "  </thead>\n",
       "  <tbody>\n",
       "    <tr>\n",
       "      <th>0</th>\n",
       "      <td>FERME DE FLASSY</td>\n",
       "      <td>89520</td>\n",
       "      <td>89331</td>\n",
       "      <td>SAINPUITS</td>\n",
       "      <td>3.257254</td>\n",
       "      <td>47.491203</td>\n",
       "      <td>False</td>\n",
       "      <td>True</td>\n",
       "      <td>False</td>\n",
       "      <td>False</td>\n",
       "      <td>...</td>\n",
       "      <td>Non Seveso</td>\n",
       "      <td>False</td>\n",
       "      <td>En exploitation avec titre</td>\n",
       "      <td>Enregistrement</td>\n",
       "      <td>38132669300011</td>\n",
       "      <td>False</td>\n",
       "      <td>GAEC DES BOURRYS</td>\n",
       "      <td>NaN</td>\n",
       "      <td>NaN</td>\n",
       "      <td>NaN</td>\n",
       "    </tr>\n",
       "    <tr>\n",
       "      <th>1</th>\n",
       "      <td>Pech Louis</td>\n",
       "      <td>81220</td>\n",
       "      <td>81266</td>\n",
       "      <td>ST PAUL CAP DE JOUX</td>\n",
       "      <td>1.988077</td>\n",
       "      <td>43.639220</td>\n",
       "      <td>False</td>\n",
       "      <td>True</td>\n",
       "      <td>False</td>\n",
       "      <td>False</td>\n",
       "      <td>...</td>\n",
       "      <td>Non Seveso</td>\n",
       "      <td>False</td>\n",
       "      <td>En fin d'exploitation</td>\n",
       "      <td>Autorisation</td>\n",
       "      <td>32841163200024</td>\n",
       "      <td>False</td>\n",
       "      <td>GAEC PORC D'ALGRES</td>\n",
       "      <td>NaN</td>\n",
       "      <td>NaN</td>\n",
       "      <td>NaN</td>\n",
       "    </tr>\n",
       "    <tr>\n",
       "      <th>2</th>\n",
       "      <td>LE HAMEL LELEGARD</td>\n",
       "      <td>50410</td>\n",
       "      <td>50393</td>\n",
       "      <td>PERCY-EN-NORMANDIE</td>\n",
       "      <td>-1.225119</td>\n",
       "      <td>48.913919</td>\n",
       "      <td>True</td>\n",
       "      <td>False</td>\n",
       "      <td>False</td>\n",
       "      <td>False</td>\n",
       "      <td>...</td>\n",
       "      <td>Non Seveso</td>\n",
       "      <td>False</td>\n",
       "      <td>En exploitation avec titre</td>\n",
       "      <td>Enregistrement</td>\n",
       "      <td>87966212000010</td>\n",
       "      <td>False</td>\n",
       "      <td>GAEC FERME H ET L</td>\n",
       "      <td>01</td>\n",
       "      <td>NaN</td>\n",
       "      <td>NaN</td>\n",
       "    </tr>\n",
       "    <tr>\n",
       "      <th>3</th>\n",
       "      <td></td>\n",
       "      <td>50410</td>\n",
       "      <td>50393</td>\n",
       "      <td>PERCY EN NORMANDIE</td>\n",
       "      <td>-1.187543</td>\n",
       "      <td>48.950369</td>\n",
       "      <td>True</td>\n",
       "      <td>True</td>\n",
       "      <td>False</td>\n",
       "      <td>False</td>\n",
       "      <td>...</td>\n",
       "      <td>Non Seveso</td>\n",
       "      <td>False</td>\n",
       "      <td>En exploitation avec titre</td>\n",
       "      <td>Autorisation</td>\n",
       "      <td>42333815100016</td>\n",
       "      <td>False</td>\n",
       "      <td>BINOUDIERE (GAEC DE LA)</td>\n",
       "      <td>NaN</td>\n",
       "      <td>La Binoudière</td>\n",
       "      <td>NaN</td>\n",
       "    </tr>\n",
       "    <tr>\n",
       "      <th>4</th>\n",
       "      <td></td>\n",
       "      <td>50410</td>\n",
       "      <td>50393</td>\n",
       "      <td>PERCY EN NORMANDIE</td>\n",
       "      <td>-1.253302</td>\n",
       "      <td>48.918864</td>\n",
       "      <td>True</td>\n",
       "      <td>False</td>\n",
       "      <td>False</td>\n",
       "      <td>False</td>\n",
       "      <td>...</td>\n",
       "      <td>Non Seveso</td>\n",
       "      <td>False</td>\n",
       "      <td>En exploitation avec titre</td>\n",
       "      <td>Enregistrement</td>\n",
       "      <td>40832313700013</td>\n",
       "      <td>False</td>\n",
       "      <td>BOCAGE (GAEC DU)</td>\n",
       "      <td>NaN</td>\n",
       "      <td>LE HAMEL AUX LOUVEAUX</td>\n",
       "      <td>NaN</td>\n",
       "    </tr>\n",
       "  </tbody>\n",
       "</table>\n",
       "<p>5 rows × 23 columns</p>\n",
       "</div>"
      ],
      "text/plain": [
       "            adresse1 codePostal codeInsee              commune  longitude  \\\n",
       "0    FERME DE FLASSY      89520     89331            SAINPUITS   3.257254   \n",
       "1         Pech Louis      81220     81266  ST PAUL CAP DE JOUX   1.988077   \n",
       "2  LE HAMEL LELEGARD      50410     50393   PERCY-EN-NORMANDIE  -1.225119   \n",
       "3                         50410     50393   PERCY EN NORMANDIE  -1.187543   \n",
       "4                         50410     50393   PERCY EN NORMANDIE  -1.253302   \n",
       "\n",
       "    latitude  bovins  porcs  volailles  carriere  ...  statutSeveso    ied  \\\n",
       "0  47.491203   False   True      False     False  ...    Non Seveso  False   \n",
       "1  43.639220   False   True      False     False  ...    Non Seveso  False   \n",
       "2  48.913919    True  False      False     False  ...    Non Seveso  False   \n",
       "3  48.950369    True   True      False     False  ...    Non Seveso  False   \n",
       "4  48.918864    True  False      False     False  ...    Non Seveso  False   \n",
       "\n",
       "                 etatActivite   regimeVigueur           siret mise_en_demeure  \\\n",
       "0  En exploitation avec titre  Enregistrement  38132669300011           False   \n",
       "1       En fin d'exploitation    Autorisation  32841163200024           False   \n",
       "2  En exploitation avec titre  Enregistrement  87966212000010           False   \n",
       "3  En exploitation avec titre    Autorisation  42333815100016           False   \n",
       "4  En exploitation avec titre  Enregistrement  40832313700013           False   \n",
       "\n",
       "                      name codeNaf               adresse2 adresse3  \n",
       "0         GAEC DES BOURRYS     NaN                    NaN      NaN  \n",
       "1       GAEC PORC D'ALGRES     NaN                    NaN      NaN  \n",
       "2        GAEC FERME H ET L      01                    NaN      NaN  \n",
       "3  BINOUDIERE (GAEC DE LA)     NaN          La Binoudière      NaN  \n",
       "4         BOCAGE (GAEC DU)     NaN  LE HAMEL AUX LOUVEAUX      NaN  \n",
       "\n",
       "[5 rows x 23 columns]"
      ]
     },
     "execution_count": 17,
     "metadata": {},
     "output_type": "execute_result"
    }
   ],
   "source": [
    "farm_records = list()\n",
    "\n",
    "for farm_name, farm in farms.items():\n",
    "    farm[\"name\"] = farm_name\n",
    "    farm_records.append(farm)\n",
    "\n",
    "farms_df = pd.DataFrame.from_records(farm_records)\n",
    "farms_df.head()"
   ]
  },
  {
   "attachments": {},
   "cell_type": "markdown",
   "metadata": {},
   "source": [
    "#### Rubrics"
   ]
  },
  {
   "cell_type": "code",
   "execution_count": 18,
   "metadata": {},
   "outputs": [
    {
     "data": {
      "text/html": [
       "<div>\n",
       "<style scoped>\n",
       "    .dataframe tbody tr th:only-of-type {\n",
       "        vertical-align: middle;\n",
       "    }\n",
       "\n",
       "    .dataframe tbody tr th {\n",
       "        vertical-align: top;\n",
       "    }\n",
       "\n",
       "    .dataframe thead th {\n",
       "        text-align: right;\n",
       "    }\n",
       "</style>\n",
       "<table border=\"1\" class=\"dataframe\">\n",
       "  <thead>\n",
       "    <tr style=\"text-align: right;\">\n",
       "      <th></th>\n",
       "      <th>id</th>\n",
       "      <th>nature</th>\n",
       "    </tr>\n",
       "  </thead>\n",
       "  <tbody>\n",
       "    <tr>\n",
       "      <th>0</th>\n",
       "      <td>2102</td>\n",
       "      <td>Elevage de porcs de plus de 450 animaux-équiva...</td>\n",
       "    </tr>\n",
       "    <tr>\n",
       "      <th>1</th>\n",
       "      <td>3660</td>\n",
       "      <td>avec plus de 2 000 emplacements pour les porcs...</td>\n",
       "    </tr>\n",
       "    <tr>\n",
       "      <th>2</th>\n",
       "      <td>2101</td>\n",
       "      <td>Bovins (élevage, vente, transit,  etc)</td>\n",
       "    </tr>\n",
       "    <tr>\n",
       "      <th>3</th>\n",
       "      <td>2111</td>\n",
       "      <td>Elevages de plus de 30 000 volailles</td>\n",
       "    </tr>\n",
       "    <tr>\n",
       "      <th>4</th>\n",
       "      <td>1532</td>\n",
       "      <td>Stockage bois déclaré</td>\n",
       "    </tr>\n",
       "  </tbody>\n",
       "</table>\n",
       "</div>"
      ],
      "text/plain": [
       "     id                                             nature\n",
       "0  2102  Elevage de porcs de plus de 450 animaux-équiva...\n",
       "1  3660  avec plus de 2 000 emplacements pour les porcs...\n",
       "2  2101             Bovins (élevage, vente, transit,  etc)\n",
       "3  2111               Elevages de plus de 30 000 volailles\n",
       "4  1532                              Stockage bois déclaré"
      ]
     },
     "execution_count": 18,
     "metadata": {},
     "output_type": "execute_result"
    }
   ],
   "source": [
    "rubrics_df = pd.DataFrame(rubrics.items(), columns=['id', 'nature'])\n",
    "rubrics_df.head()"
   ]
  },
  {
   "attachments": {},
   "cell_type": "markdown",
   "metadata": {},
   "source": [
    "#### Stocks"
   ]
  },
  {
   "cell_type": "code",
   "execution_count": 19,
   "metadata": {},
   "outputs": [
    {
     "data": {
      "text/html": [
       "<div>\n",
       "<style scoped>\n",
       "    .dataframe tbody tr th:only-of-type {\n",
       "        vertical-align: middle;\n",
       "    }\n",
       "\n",
       "    .dataframe tbody tr th {\n",
       "        vertical-align: top;\n",
       "    }\n",
       "\n",
       "    .dataframe thead th {\n",
       "        text-align: right;\n",
       "    }\n",
       "</style>\n",
       "<table border=\"1\" class=\"dataframe\">\n",
       "  <thead>\n",
       "    <tr style=\"text-align: right;\">\n",
       "      <th></th>\n",
       "      <th>raison_sociale</th>\n",
       "      <th>rubric_id</th>\n",
       "      <th>quantite</th>\n",
       "      <th>unite</th>\n",
       "    </tr>\n",
       "  </thead>\n",
       "  <tbody>\n",
       "    <tr>\n",
       "      <th>0</th>\n",
       "      <td>GAEC DES BOURRYS</td>\n",
       "      <td>2102</td>\n",
       "      <td>1069.0</td>\n",
       "      <td>Animaux-Eq</td>\n",
       "    </tr>\n",
       "    <tr>\n",
       "      <th>1</th>\n",
       "      <td>GAEC PORC D'ALGRES</td>\n",
       "      <td>3660</td>\n",
       "      <td>860.0</td>\n",
       "      <td></td>\n",
       "    </tr>\n",
       "    <tr>\n",
       "      <th>2</th>\n",
       "      <td>GAEC PORC D'ALGRES</td>\n",
       "      <td>2102</td>\n",
       "      <td>860.0</td>\n",
       "      <td></td>\n",
       "    </tr>\n",
       "    <tr>\n",
       "      <th>3</th>\n",
       "      <td>GAEC FERME H ET L</td>\n",
       "      <td>2101</td>\n",
       "      <td>105.0</td>\n",
       "      <td></td>\n",
       "    </tr>\n",
       "    <tr>\n",
       "      <th>4</th>\n",
       "      <td>GAEC FERME H ET L</td>\n",
       "      <td>2101</td>\n",
       "      <td>150.0</td>\n",
       "      <td></td>\n",
       "    </tr>\n",
       "  </tbody>\n",
       "</table>\n",
       "</div>"
      ],
      "text/plain": [
       "       raison_sociale rubric_id  quantite       unite\n",
       "0    GAEC DES BOURRYS      2102    1069.0  Animaux-Eq\n",
       "1  GAEC PORC D'ALGRES      3660     860.0            \n",
       "2  GAEC PORC D'ALGRES      2102     860.0            \n",
       "3   GAEC FERME H ET L      2101     105.0            \n",
       "4   GAEC FERME H ET L      2101     150.0            "
      ]
     },
     "execution_count": 19,
     "metadata": {},
     "output_type": "execute_result"
    }
   ],
   "source": [
    "stocks_df = pd.DataFrame.from_records(stocks)\n",
    "stocks_df.quantite = pd.to_numeric(stocks_df.quantite)\n",
    "stocks_df.head()"
   ]
  },
  {
   "attachments": {},
   "cell_type": "markdown",
   "metadata": {},
   "source": [
    "### Write to file"
   ]
  },
  {
   "cell_type": "code",
   "execution_count": 20,
   "metadata": {},
   "outputs": [],
   "source": [
    "farms_df.to_csv(\"farms.csv\", index=False)\n",
    "rubrics_df.to_csv(\"rubrics.csv\", index=False)\n",
    "stocks_df.to_csv(\"stocks.csv\", index=False)"
   ]
  }
 ],
 "metadata": {
  "kernelspec": {
   "display_name": "env",
   "language": "python",
   "name": "python3"
  },
  "language_info": {
   "codemirror_mode": {
    "name": "ipython",
    "version": 3
   },
   "file_extension": ".py",
   "mimetype": "text/x-python",
   "name": "python",
   "nbconvert_exporter": "python",
   "pygments_lexer": "ipython3",
   "version": "3.10.9"
  },
  "orig_nbformat": 4,
  "vscode": {
   "interpreter": {
    "hash": "bd830302d09ea3a947c8564a5836fd008acfca38492e419b78a92453ef02ffd3"
   }
  }
 },
 "nbformat": 4,
 "nbformat_minor": 2
}
